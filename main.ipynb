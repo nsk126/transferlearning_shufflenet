{
 "cells": [
  {
   "cell_type": "code",
   "execution_count": null,
   "metadata": {},
   "outputs": [],
   "source": [
    "import tensorflow as tf\n",
    "from matplotlib import pyplot as plt\n",
    "from sklearn.preprocessing import OneHotEncoder\n",
    "from sklearn.model_selection import train_test_split\n",
    "import numpy as np\n",
    "from tensorflow.keras.layers import Conv2D, Dense, Flatten, MaxPooling2D, Dropout\n",
    "from tensorflow.keras.models import Sequential\n",
    "from sklearn.metrics import plot_confusion_matrix"
   ]
  },
  {
   "cell_type": "markdown",
   "metadata": {},
   "source": [
    "### Run on GPU"
   ]
  },
  {
   "cell_type": "code",
   "execution_count": null,
   "metadata": {},
   "outputs": [],
   "source": [
    "tf.config.list_physical_devices('GPU')"
   ]
  },
  {
   "cell_type": "code",
   "execution_count": null,
   "metadata": {},
   "outputs": [],
   "source": [
    "#@Load CIFAR-10 Dataset\n",
    "cifar10 = tf.keras.datasets.cifar10\n",
    "\n",
    "# Distribute it to train and test set\n",
    "(x_train, y_train), (x_test, y_test) = cifar10.load_data()\n",
    "print(x_train.shape, y_train.shape, x_test.shape, y_test.shape)\n"
   ]
  },
  {
   "cell_type": "code",
   "execution_count": null,
   "metadata": {},
   "outputs": [],
   "source": [
    "# Reduce pixel values\n",
    "x_train, x_test = x_train / 255.0, x_test / 255.0\n",
    "\n",
    "# flatten the label values\n",
    "y_train, y_test = y_train.flatten(), y_test.flatten()\n"
   ]
  },
  {
   "cell_type": "code",
   "execution_count": null,
   "metadata": {},
   "outputs": [],
   "source": [
    "x_valid, x_test, y_valid, y_test = train_test_split(x_test, y_test, train_size=0.5, shuffle=False)"
   ]
  },
  {
   "cell_type": "code",
   "execution_count": null,
   "metadata": {},
   "outputs": [],
   "source": [
    "#@One hot encoding\n",
    "labels = np.array([0, 1 ,2, 3, 4, 5, 6, 7, 8, 9]).reshape(-1, 1)\n",
    "\n",
    "# Design one hot encoder\n",
    "encoder = OneHotEncoder(sparse_output=False)\n",
    "\n",
    "# Fit the encoder on the labels\n",
    "encoder.fit(labels)\n",
    "\n",
    "# Function to one-hot encode data\n",
    "def one_hot_encode(data):\n",
    "    return encoder.transform(np.array(data).reshape(-1, 1))\n",
    "\n",
    "\n",
    "# Function to decode one-hot encoded data\n",
    "def decode(encoded_data):\n",
    "    return encoder.inverse_transform(encoded_data).flatten().tolist()"
   ]
  },
  {
   "cell_type": "code",
   "execution_count": null,
   "metadata": {},
   "outputs": [],
   "source": [
    "y_train = one_hot_encode(y_train)\n",
    "y_valid = one_hot_encode(y_valid)\n",
    "y_test = one_hot_encode(y_test)"
   ]
  },
  {
   "cell_type": "markdown",
   "metadata": {},
   "source": [
    "## Phase 1:\n",
    "\n",
    "VGG Style Conv layers followed by FCNN Layers and classification. "
   ]
  },
  {
   "cell_type": "code",
   "execution_count": null,
   "metadata": {},
   "outputs": [],
   "source": [
    "#@ Define model\n",
    "model = Sequential()\n",
    "model.add(Conv2D(32, (3,3), activation='relu', input_shape=(32,32,3)))\n",
    "model.add(Conv2D(32, (3,3), activation='relu'))\n",
    "model.add(Conv2D(64, (3,3), activation='relu'))\n",
    "model.add(Conv2D(64, (3,3), activation='relu'))\n",
    "model.add(Conv2D(128, (3,3), activation='relu'))\n",
    "model.add(Conv2D(128, (3,3), activation='relu'))\n",
    "model.add(Flatten())\n",
    "model.add(Dense(100, activation='relu'))\n",
    "model.add(Dense(10, activation='softmax'))\n",
    "\n",
    "\n",
    "model.summary()"
   ]
  },
  {
   "cell_type": "markdown",
   "metadata": {},
   "source": [
    "### Training"
   ]
  },
  {
   "cell_type": "code",
   "execution_count": null,
   "metadata": {},
   "outputs": [],
   "source": [
    "model.compile(optimizer='adam', loss='categorical_crossentropy', metrics=['accuracy'])\n",
    "model_history = model.fit(x_train, y_train, validation_data=(x_valid, y_valid), epochs=15)"
   ]
  },
  {
   "cell_type": "code",
   "execution_count": null,
   "metadata": {},
   "outputs": [],
   "source": [
    "# plotting loss vs epoch curve of model\n",
    "loss = model_history.history['loss']\n",
    "val_loss = model_history.history['val_loss']\n",
    "epochs = range(1, len(loss)+1)\n",
    "plt.figure()\n",
    "plt.plot(epochs, loss, label='train loss')\n",
    "plt.plot(epochs, val_loss, label='val loss')\n",
    "plt.xlabel('Epochs')\n",
    "plt.ylabel('Loss')\n",
    "plt.legend()\n",
    "plt.show()"
   ]
  },
  {
   "cell_type": "code",
   "execution_count": null,
   "metadata": {},
   "outputs": [],
   "source": [
    "# Find and print model accuracy against test set\n",
    "test_loss, test_acc = model.evaluate(x_test,  y_test, verbose=2)\n",
    "print('\\nTest accuracy:', test_acc)"
   ]
  },
  {
   "cell_type": "markdown",
   "metadata": {},
   "source": [
    "## Phase 2:\n",
    "\n",
    "VGG Style Conv layers and Max Pooling layers followed by FCNN classifier."
   ]
  },
  {
   "cell_type": "code",
   "execution_count": null,
   "metadata": {},
   "outputs": [],
   "source": [
    "#@ Define model\n",
    "model_maxpool = Sequential()\n",
    "model_maxpool.add(Conv2D(32, (3,3), activation='relu', input_shape=(32,32,3)))\n",
    "model_maxpool.add(Conv2D(32, (3,3), activation='relu'))\n",
    "model_maxpool.add(MaxPooling2D(2,2))\n",
    "model_maxpool.add(Conv2D(64, (3,3), activation='relu'))\n",
    "model_maxpool.add(Conv2D(64, (3,3), activation='relu'))\n",
    "model_maxpool.add(MaxPooling2D(2,2))\n",
    "model_maxpool.add(Conv2D(128, (3,3), activation='relu'))\n",
    "model_maxpool.add(Conv2D(128, (3,3), activation='relu'))\n",
    "model_maxpool.add(Flatten())\n",
    "model_maxpool.add(Dense(100, activation='relu'))\n",
    "model_maxpool.add(Dense(10, activation='softmax'))\n",
    "\n",
    "model_maxpool.summary()"
   ]
  },
  {
   "cell_type": "markdown",
   "metadata": {},
   "source": [
    "### Training"
   ]
  },
  {
   "cell_type": "code",
   "execution_count": null,
   "metadata": {},
   "outputs": [],
   "source": [
    "model_maxpool.compile(optimizer='adam', loss='categorical_crossentropy', metrics=['accuracy'])\n",
    "model_history = model_maxpool.fit(x_train, y_train, validation_data=(x_valid, y_valid), epochs=15)"
   ]
  },
  {
   "cell_type": "code",
   "execution_count": null,
   "metadata": {},
   "outputs": [],
   "source": [
    "# plotting loss vs epoch curve of model\n",
    "loss = model_history.history['loss']\n",
    "val_loss = model_history.history['val_loss']\n",
    "epochs = range(1, len(loss)+1)\n",
    "plt.figure()\n",
    "plt.plot(epochs, loss, label='train loss')\n",
    "plt.plot(epochs, val_loss, label='val loss')\n",
    "plt.xlabel('Epochs')\n",
    "plt.ylabel('Loss')\n",
    "plt.legend()\n",
    "plt.show()"
   ]
  },
  {
   "cell_type": "code",
   "execution_count": null,
   "metadata": {},
   "outputs": [],
   "source": [
    "# Find and print model accuracy against test set\n",
    "test_loss, test_acc = model_maxpool.evaluate(x_test,  y_test, verbose=2)\n",
    "print('\\nTest accuracy:', test_acc)"
   ]
  },
  {
   "cell_type": "markdown",
   "metadata": {},
   "source": [
    "## Phase 3:\n",
    "\n",
    "VGG Style Conv, MaxPool and Dropout layers followed by FCNN classifier."
   ]
  },
  {
   "cell_type": "code",
   "execution_count": null,
   "metadata": {},
   "outputs": [],
   "source": [
    "#@ Define model\n",
    "model_f = Sequential()\n",
    "model_f.add(Conv2D(32, (3,3), activation='relu', input_shape=(32,32,3)))\n",
    "model_f.add(Conv2D(32, (3,3), activation='relu'))\n",
    "model_f.add(MaxPooling2D(2,2))\n",
    "model_f.add(Dropout(0.1))\n",
    "model_f.add(Conv2D(64, (3,3), activation='relu'))\n",
    "model_f.add(Conv2D(64, (3,3), activation='relu'))\n",
    "model_f.add(MaxPooling2D(2,2))\n",
    "model_f.add(Dropout(0.1))\n",
    "model_f.add(Conv2D(128, (3,3), activation='relu'))\n",
    "model_f.add(Conv2D(128, (3,3), activation='relu'))\n",
    "model_f.add(Dropout(0.1))\n",
    "model_f.add(Flatten())\n",
    "model_f.add(Dense(100, activation='relu'))\n",
    "model_f.add(Dropout(0.1))\n",
    "model_f.add(Dense(100, activation='relu'))\n",
    "model_f.add(Dropout(0.2))\n",
    "model_f.add(Dense(10, activation='softmax'))\n",
    "\n",
    "model_f.summary()"
   ]
  },
  {
   "cell_type": "markdown",
   "metadata": {},
   "source": [
    "### Training"
   ]
  },
  {
   "cell_type": "code",
   "execution_count": null,
   "metadata": {},
   "outputs": [],
   "source": [
    "model_f.compile(optimizer='adam', loss='categorical_crossentropy', metrics=['accuracy'])\n",
    "model_history = model_f.fit(x_train, y_train, validation_data=(x_valid, y_valid), epochs=15)"
   ]
  },
  {
   "cell_type": "code",
   "execution_count": null,
   "metadata": {},
   "outputs": [],
   "source": [
    "# plotting loss vs epoch curve of model\n",
    "loss = model_history.history['loss']\n",
    "val_loss = model_history.history['val_loss']\n",
    "epochs = range(1, len(loss)+1)\n",
    "plt.figure()\n",
    "plt.plot(epochs, loss, label='train loss')\n",
    "plt.plot(epochs, val_loss, label='val loss')\n",
    "plt.xlabel('Epochs')\n",
    "plt.ylabel('Loss')\n",
    "plt.legend()\n",
    "plt.show()"
   ]
  },
  {
   "cell_type": "code",
   "execution_count": null,
   "metadata": {},
   "outputs": [],
   "source": [
    "# Find and print model accuracy against test set\n",
    "test_loss, test_acc = model_f.evaluate(x_test,  y_test, verbose=2)\n",
    "print('\\nTest accuracy:', test_acc)"
   ]
  }
 ],
 "metadata": {
  "kernelspec": {
   "display_name": "adverbs",
   "language": "python",
   "name": "python3"
  },
  "language_info": {
   "codemirror_mode": {
    "name": "ipython",
    "version": 3
   },
   "file_extension": ".py",
   "mimetype": "text/x-python",
   "name": "python",
   "nbconvert_exporter": "python",
   "pygments_lexer": "ipython3",
   "version": "3.9.18"
  }
 },
 "nbformat": 4,
 "nbformat_minor": 2
}
